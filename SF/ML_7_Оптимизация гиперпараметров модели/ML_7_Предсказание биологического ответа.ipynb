{
 "cells": [
  {
   "cell_type": "code",
   "execution_count": 18,
   "metadata": {},
   "outputs": [],
   "source": [
    "# Импорт библиотек\n",
    "import numpy as np  # для матричных вычислений\n",
    "import pandas as pd  # для анализа и предобработки данных\n",
    "\n",
    "from sklearn import linear_model  # линейные модели\n",
    "from sklearn import ensemble  # ансамбли\n",
    "from sklearn import metrics  # метрики\n",
    "from sklearn.model_selection import train_test_split  # сплитование выборки\n",
    "from sklearn.model_selection import GridSearchCV\n",
    "from sklearn.model_selection import RandomizedSearchCV  \n",
    "from hyperopt import hp, fmin, tpe, Trials\n",
    "from sklearn.model_selection import cross_val_score\n",
    "import optuna\n",
    " "
   ]
  },
  {
   "cell_type": "code",
   "execution_count": 19,
   "metadata": {},
   "outputs": [
    {
     "data": {
      "text/plain": [
       "(3751, 1777)"
      ]
     },
     "metadata": {},
     "output_type": "display_data"
    },
    {
     "data": {
      "text/html": [
       "<div>\n",
       "<style scoped>\n",
       "    .dataframe tbody tr th:only-of-type {\n",
       "        vertical-align: middle;\n",
       "    }\n",
       "\n",
       "    .dataframe tbody tr th {\n",
       "        vertical-align: top;\n",
       "    }\n",
       "\n",
       "    .dataframe thead th {\n",
       "        text-align: right;\n",
       "    }\n",
       "</style>\n",
       "<table border=\"1\" class=\"dataframe\">\n",
       "  <thead>\n",
       "    <tr style=\"text-align: right;\">\n",
       "      <th></th>\n",
       "      <th>Activity</th>\n",
       "      <th>D1</th>\n",
       "      <th>D2</th>\n",
       "      <th>D3</th>\n",
       "      <th>D4</th>\n",
       "      <th>D5</th>\n",
       "      <th>D6</th>\n",
       "      <th>D7</th>\n",
       "      <th>D8</th>\n",
       "      <th>D9</th>\n",
       "      <th>...</th>\n",
       "      <th>D1767</th>\n",
       "      <th>D1768</th>\n",
       "      <th>D1769</th>\n",
       "      <th>D1770</th>\n",
       "      <th>D1771</th>\n",
       "      <th>D1772</th>\n",
       "      <th>D1773</th>\n",
       "      <th>D1774</th>\n",
       "      <th>D1775</th>\n",
       "      <th>D1776</th>\n",
       "    </tr>\n",
       "  </thead>\n",
       "  <tbody>\n",
       "    <tr>\n",
       "      <th>0</th>\n",
       "      <td>1</td>\n",
       "      <td>0.000000</td>\n",
       "      <td>0.497009</td>\n",
       "      <td>0.10</td>\n",
       "      <td>0.0</td>\n",
       "      <td>0.132956</td>\n",
       "      <td>0.678031</td>\n",
       "      <td>0.273166</td>\n",
       "      <td>0.585445</td>\n",
       "      <td>0.743663</td>\n",
       "      <td>...</td>\n",
       "      <td>0</td>\n",
       "      <td>0</td>\n",
       "      <td>0</td>\n",
       "      <td>0</td>\n",
       "      <td>0</td>\n",
       "      <td>0</td>\n",
       "      <td>0</td>\n",
       "      <td>0</td>\n",
       "      <td>0</td>\n",
       "      <td>0</td>\n",
       "    </tr>\n",
       "    <tr>\n",
       "      <th>1</th>\n",
       "      <td>1</td>\n",
       "      <td>0.366667</td>\n",
       "      <td>0.606291</td>\n",
       "      <td>0.05</td>\n",
       "      <td>0.0</td>\n",
       "      <td>0.111209</td>\n",
       "      <td>0.803455</td>\n",
       "      <td>0.106105</td>\n",
       "      <td>0.411754</td>\n",
       "      <td>0.836582</td>\n",
       "      <td>...</td>\n",
       "      <td>1</td>\n",
       "      <td>1</td>\n",
       "      <td>1</td>\n",
       "      <td>1</td>\n",
       "      <td>0</td>\n",
       "      <td>1</td>\n",
       "      <td>0</td>\n",
       "      <td>0</td>\n",
       "      <td>1</td>\n",
       "      <td>0</td>\n",
       "    </tr>\n",
       "    <tr>\n",
       "      <th>2</th>\n",
       "      <td>1</td>\n",
       "      <td>0.033300</td>\n",
       "      <td>0.480124</td>\n",
       "      <td>0.00</td>\n",
       "      <td>0.0</td>\n",
       "      <td>0.209791</td>\n",
       "      <td>0.610350</td>\n",
       "      <td>0.356453</td>\n",
       "      <td>0.517720</td>\n",
       "      <td>0.679051</td>\n",
       "      <td>...</td>\n",
       "      <td>0</td>\n",
       "      <td>0</td>\n",
       "      <td>0</td>\n",
       "      <td>0</td>\n",
       "      <td>0</td>\n",
       "      <td>0</td>\n",
       "      <td>0</td>\n",
       "      <td>0</td>\n",
       "      <td>0</td>\n",
       "      <td>0</td>\n",
       "    </tr>\n",
       "    <tr>\n",
       "      <th>3</th>\n",
       "      <td>1</td>\n",
       "      <td>0.000000</td>\n",
       "      <td>0.538825</td>\n",
       "      <td>0.00</td>\n",
       "      <td>0.5</td>\n",
       "      <td>0.196344</td>\n",
       "      <td>0.724230</td>\n",
       "      <td>0.235606</td>\n",
       "      <td>0.288764</td>\n",
       "      <td>0.805110</td>\n",
       "      <td>...</td>\n",
       "      <td>0</td>\n",
       "      <td>0</td>\n",
       "      <td>0</td>\n",
       "      <td>0</td>\n",
       "      <td>0</td>\n",
       "      <td>0</td>\n",
       "      <td>0</td>\n",
       "      <td>0</td>\n",
       "      <td>0</td>\n",
       "      <td>0</td>\n",
       "    </tr>\n",
       "    <tr>\n",
       "      <th>4</th>\n",
       "      <td>0</td>\n",
       "      <td>0.100000</td>\n",
       "      <td>0.517794</td>\n",
       "      <td>0.00</td>\n",
       "      <td>0.0</td>\n",
       "      <td>0.494734</td>\n",
       "      <td>0.781422</td>\n",
       "      <td>0.154361</td>\n",
       "      <td>0.303809</td>\n",
       "      <td>0.812646</td>\n",
       "      <td>...</td>\n",
       "      <td>0</td>\n",
       "      <td>0</td>\n",
       "      <td>0</td>\n",
       "      <td>0</td>\n",
       "      <td>0</td>\n",
       "      <td>0</td>\n",
       "      <td>0</td>\n",
       "      <td>0</td>\n",
       "      <td>0</td>\n",
       "      <td>0</td>\n",
       "    </tr>\n",
       "  </tbody>\n",
       "</table>\n",
       "<p>5 rows × 1777 columns</p>\n",
       "</div>"
      ],
      "text/plain": [
       "   Activity        D1        D2    D3   D4        D5        D6        D7  \\\n",
       "0         1  0.000000  0.497009  0.10  0.0  0.132956  0.678031  0.273166   \n",
       "1         1  0.366667  0.606291  0.05  0.0  0.111209  0.803455  0.106105   \n",
       "2         1  0.033300  0.480124  0.00  0.0  0.209791  0.610350  0.356453   \n",
       "3         1  0.000000  0.538825  0.00  0.5  0.196344  0.724230  0.235606   \n",
       "4         0  0.100000  0.517794  0.00  0.0  0.494734  0.781422  0.154361   \n",
       "\n",
       "         D8        D9  ...  D1767  D1768  D1769  D1770  D1771  D1772  D1773  \\\n",
       "0  0.585445  0.743663  ...      0      0      0      0      0      0      0   \n",
       "1  0.411754  0.836582  ...      1      1      1      1      0      1      0   \n",
       "2  0.517720  0.679051  ...      0      0      0      0      0      0      0   \n",
       "3  0.288764  0.805110  ...      0      0      0      0      0      0      0   \n",
       "4  0.303809  0.812646  ...      0      0      0      0      0      0      0   \n",
       "\n",
       "   D1774  D1775  D1776  \n",
       "0      0      0      0  \n",
       "1      0      1      0  \n",
       "2      0      0      0  \n",
       "3      0      0      0  \n",
       "4      0      0      0  \n",
       "\n",
       "[5 rows x 1777 columns]"
      ]
     },
     "execution_count": 19,
     "metadata": {},
     "output_type": "execute_result"
    }
   ],
   "source": [
    "data = pd.read_csv('data/_train_sem09 (1).csv')\n",
    "display(data.shape)\n",
    "data.head()"
   ]
  },
  {
   "cell_type": "code",
   "execution_count": 20,
   "metadata": {},
   "outputs": [
    {
     "data": {
      "text/plain": [
       "1    0.542255\n",
       "0    0.457745\n",
       "Name: Activity, dtype: float64"
      ]
     },
     "execution_count": 20,
     "metadata": {},
     "output_type": "execute_result"
    }
   ],
   "source": [
    "data['Activity'].value_counts(normalize=True)"
   ]
  },
  {
   "attachments": {},
   "cell_type": "markdown",
   "metadata": {},
   "source": [
    "Данные сбалансированы, предобработка не требуется."
   ]
  },
  {
   "attachments": {},
   "cell_type": "markdown",
   "metadata": {},
   "source": [
    "## <center>Подготовка данных"
   ]
  },
  {
   "cell_type": "code",
   "execution_count": 21,
   "metadata": {},
   "outputs": [],
   "source": [
    "# Выделим целевой признак\n",
    "y = data['Activity']\n",
    "x = data.drop(['Activity'], axis=1)\n",
    "# Разделим выборку на тренировочную и тестовую\n",
    "X_train, X_test, y_train, y_test = train_test_split(x, y, stratify=y, random_state = 42, test_size = 0.2)"
   ]
  },
  {
   "attachments": {},
   "cell_type": "markdown",
   "metadata": {},
   "source": [
    "## <center>Обучение с параметрами \"по умолчанию\""
   ]
  },
  {
   "cell_type": "code",
   "execution_count": 22,
   "metadata": {},
   "outputs": [
    {
     "name": "stdout",
     "output_type": "stream",
     "text": [
      "Логистическая регрессия:\n",
      "f1_score на тренировочном наборе: 0.89\n",
      "f1_score на тестовом наборе: 0.78 \n",
      "\n",
      "Случайный лес:\n",
      "f1_score на тренировочном наборе: 1.00\n",
      "f1_score на тестовом наборе: 0.80\n"
     ]
    }
   ],
   "source": [
    "# Обучим логистическую регрессию и выведем метрики\n",
    "log_reg = linear_model.LogisticRegression(max_iter=1000, random_state=42)\n",
    "log_reg.fit(X_train, y_train)\n",
    "y_train_log_reg = log_reg.predict(X_train)\n",
    "y_test_log_reg = log_reg.predict(X_test)\n",
    "print('Логистическая регрессия:')\n",
    "print('f1_score на тренировочном наборе: {:.2f}'.format(metrics.f1_score(y_train, y_train_log_reg)))\n",
    "print('f1_score на тестовом наборе: {:.2f}'.format(metrics.f1_score(y_test, y_test_log_reg)), '\\n')\n",
    "\n",
    "# Обучим случайный лес с параметрами по умолчанию и выводим значения метрики \n",
    "rfc = ensemble.RandomForestClassifier(random_state=42)\n",
    "rfc.fit(X_train, y_train)\n",
    "#Выводим значения метрики \n",
    "y_train_rfc = rfc.predict(X_train)\n",
    "y_test_rfc = rfc.predict(X_test)\n",
    "print('Случайный лес:')\n",
    "print('f1_score на тренировочном наборе: {:.2f}'.format(metrics.f1_score(y_train, y_train_rfc)))\n",
    "print('f1_score на тестовом наборе: {:.2f}'.format(metrics.f1_score(y_test, y_test_rfc)))"
   ]
  },
  {
   "attachments": {},
   "cell_type": "markdown",
   "metadata": {},
   "source": [
    "## <center> Оптимизация гиперпараметров"
   ]
  },
  {
   "attachments": {},
   "cell_type": "markdown",
   "metadata": {},
   "source": [
    "###  GridSearchCV"
   ]
  },
  {
   "attachments": {},
   "cell_type": "markdown",
   "metadata": {},
   "source": [
    "Ручным перебором коэффициента *С* лучшие результаты метрики *F1* на тестовой выборке достигаются в диапазоне до 0.5, поэтому для экономии времени рассчёта с помощью GridSearchCV ограничим сетку этим значением."
   ]
  },
  {
   "cell_type": "code",
   "execution_count": 23,
   "metadata": {},
   "outputs": [
    {
     "name": "stdout",
     "output_type": "stream",
     "text": [
      "f1_score на тренировочном наборе: 0.83\n",
      "f1_score на тестовом наборе: 0.78\n",
      "Наилучшие значения гиперпараметров: {'C': 0.20600000000000002, 'penalty': 'l1', 'solver': 'saga'}\n"
     ]
    }
   ],
   "source": [
    "# Зададим сетку гиперпараметров для логистической регрессии\n",
    "param_grid_lr = [{'penalty': ['l1','l2'],  # тип регуляризации\n",
    "    'solver': ['saga', 'liblinear'],  # алгоритм оптимизации\n",
    "    'C': list(np.linspace(0.01, 0.5 , 6))},  # уровень силы регурялизации\n",
    "    {'penalty': ['none'], \n",
    "    'solver': ['saga', 'lbfgs', 'sag', 'newton-cg']}]\n",
    "    #{'penalty': ['l2', 'none'] ,\n",
    "    #'solver': ['lbfgs', 'sag', 'newton-cg'],\n",
    "    #'C': list(np.linspace(0.01, 1, 11))},\n",
    "    #{'penalty': ['l1', 'l2'] ,\n",
    "    #'solver': ['liblinear'],\n",
    "    #'C': list(np.linspace(0.01, 1, 11))}\n",
    "\n",
    "# Создадим объект GridSearch для логиситической регрессии\n",
    "grid_search_lr = GridSearchCV(\n",
    "    estimator=linear_model.LogisticRegression(\n",
    "        random_state=42, #генератор случайных чисел\n",
    "        max_iter=1000 #количество итераций на сходимость\n",
    "    ), \n",
    "    param_grid=param_grid_lr, \n",
    "    cv=5, \n",
    "    n_jobs = -1\n",
    ")  \n",
    "# Подберём праметры и посчитаем метрики\n",
    "grid_search_lr.fit(X_train, y_train) \n",
    "y_train_pred = grid_search_lr.predict(X_train)\n",
    "y_test_pred = grid_search_lr.predict(X_test)\n",
    "print('f1_score на тренировочном наборе: {:.2f}'.format(metrics.f1_score(y_train, y_train_pred)))\n",
    "print('f1_score на тестовом наборе: {:.2f}'.format(metrics.f1_score(y_test, y_test_pred)))\n",
    "print(\"Наилучшие значения гиперпараметров: {}\".format(grid_search_lr.best_params_))"
   ]
  },
  {
   "cell_type": "code",
   "execution_count": 24,
   "metadata": {},
   "outputs": [
    {
     "name": "stdout",
     "output_type": "stream",
     "text": [
      "f1_score на тренировочном наборе: 0.99\n",
      "f1_score на тестовом наборе: 0.81\n",
      "Наилучшие значения гиперпараметров: {'max_depth': 14, 'min_samples_leaf': 1, 'n_estimators': 180}\n"
     ]
    }
   ],
   "source": [
    "# Зададим сетку параметров для рандомного леса\n",
    "param_grid_rfc = {'n_estimators': list(range(60, 240, 30)),\n",
    "              'min_samples_leaf': list(range(1, 11, 1)),\n",
    "              'max_depth': list(range(4, 22, 2))\n",
    "              }\n",
    "# Создадим объект GridSearch для рандомного леса\n",
    "grid_search_rfc = GridSearchCV(\n",
    "    estimator=ensemble.RandomForestClassifier(random_state=42), \n",
    "    param_grid=param_grid_rfc, \n",
    "    cv=5, \n",
    "    n_jobs = -1\n",
    ")  \n",
    "# Подберём праметры и посчитаем метрики\n",
    "grid_search_rfc.fit(X_train, y_train)\n",
    "y_train_pred = grid_search_rfc.predict(X_train)\n",
    "y_test_pred = grid_search_rfc.predict(X_test)\n",
    "print('f1_score на тренировочном наборе: {:.2f}'.format(metrics.f1_score(y_train, y_train_pred)))\n",
    "print('f1_score на тестовом наборе: {:.2f}'.format(metrics.f1_score(y_test, y_test_pred)))\n",
    "print(\"Наилучшие значения гиперпараметров: {}\".format(grid_search_rfc.best_params_))"
   ]
  },
  {
   "attachments": {},
   "cell_type": "markdown",
   "metadata": {},
   "source": [
    "### **RandomizedSearchCV**"
   ]
  },
  {
   "cell_type": "code",
   "execution_count": 25,
   "metadata": {},
   "outputs": [
    {
     "name": "stdout",
     "output_type": "stream",
     "text": [
      "f1_score на тренировочном наборе: 0.84\n",
      "f1_score на тестовом наборе: 0.78\n",
      "Наилучшие значения гиперпараметров: {'C': 0.20600000000000002, 'penalty': 'l1', 'solver': 'saga'}\n"
     ]
    }
   ],
   "source": [
    "param_distr_lr = [{'penalty': ['l2', 'none'],  # тип регуляризации\n",
    "    'solver': ['saga', 'lbfgs'],  # алгоритм оптимизации\n",
    "    'C': list(np.linspace(0.01, 0.5 , 6))},  # уровень силы регурялизации\n",
    "    {'penalty': ['l2', 'none'] ,\n",
    "    'solver': ['lbfgs', 'sag', 'newton-cg'],\n",
    "    'C': list(np.linspace(0.01, 1, 11))},\n",
    "    {'penalty': ['l1', 'l2'] ,\n",
    "    'solver': ['liblinear'],\n",
    "    'C': list(np.linspace(0.01, 1, 11))}\n",
    "    ]\n",
    "\n",
    "random_search_lr = RandomizedSearchCV(\n",
    "    estimator=linear_model.LogisticRegression(random_state=42, max_iter=1000), \n",
    "    param_distributions=param_distr_lr, \n",
    "    cv=5, \n",
    "    n_iter = 16, \n",
    "    n_jobs = -1\n",
    "    )\n",
    "\n",
    "random_search_lr.fit(X_train, y_train) \n",
    "y_train_pred = random_search_lr.predict(X_train)\n",
    "y_test_pred = random_search_lr.predict(X_test)\n",
    "print('f1_score на тренировочном наборе: {:.2f}'.format(metrics.f1_score(y_train, y_train_pred)))\n",
    "print('f1_score на тестовом наборе: {:.2f}'.format(metrics.f1_score(y_test, y_test_pred)))\n",
    "print(\"Наилучшие значения гиперпараметров: {}\".format(grid_search_lr.best_params_))"
   ]
  },
  {
   "cell_type": "code",
   "execution_count": 26,
   "metadata": {},
   "outputs": [
    {
     "name": "stdout",
     "output_type": "stream",
     "text": [
      "f1_score на тренировочном наборе: 1.00\n",
      "f1_score на тестовом наборе: 0.81\n",
      "Наилучшие значения гиперпараметров: {'max_depth': 14, 'min_samples_leaf': 1, 'n_estimators': 180}\n"
     ]
    }
   ],
   "source": [
    "param_distr_rfc = {'n_estimators': list(range(60, 240, 20)),\n",
    "              'min_samples_leaf': list(range(1, 11, 1)),\n",
    "              'max_depth': list(range(4, 22, 1))\n",
    "              }\n",
    "\n",
    "random_search_rfc = RandomizedSearchCV(\n",
    "    estimator=ensemble.RandomForestClassifier(random_state=42), \n",
    "    param_distributions=param_distr_rfc, \n",
    "    cv=5, \n",
    "    n_iter = 22, \n",
    "    n_jobs = -1\n",
    "    )\n",
    "\n",
    "random_search_rfc.fit(X_train, y_train) \n",
    "y_train_pred = random_search_rfc.predict(X_train)\n",
    "y_test_pred = random_search_rfc.predict(X_test)\n",
    "print('f1_score на тренировочном наборе: {:.2f}'.format(metrics.f1_score(y_train, y_train_pred)))\n",
    "print('f1_score на тестовом наборе: {:.2f}'.format(metrics.f1_score(y_test, y_test_pred)))\n",
    "print(\"Наилучшие значения гиперпараметров: {}\".format(grid_search_rfc.best_params_))"
   ]
  },
  {
   "attachments": {},
   "cell_type": "markdown",
   "metadata": {},
   "source": [
    "### Hyperopt"
   ]
  },
  {
   "attachments": {},
   "cell_type": "markdown",
   "metadata": {},
   "source": [
    "#### Логистическая регрессия"
   ]
  },
  {
   "cell_type": "code",
   "execution_count": 27,
   "metadata": {},
   "outputs": [
    {
     "name": "stdout",
     "output_type": "stream",
     "text": [
      "100%|██████████| 20/20 [07:32<00:00, 22.61s/trial, best loss: -0.7902171664645037]\n",
      "Наилучшие значения гиперпараметров {'C': 0.05084775379720359, 'penalty': 0, 'solver': 0}\n"
     ]
    }
   ],
   "source": [
    "# Зададим пространство поиска для логистической регрессии\n",
    "solver_list = ['lbfgs', 'newton-cg', 'sag', 'saga']\n",
    "penalty_list = ['l2']\n",
    "space_lr={'solver': hp.choice('solver', solver_list),\n",
    "       'penalty' : hp.choice('penalty', penalty_list),\n",
    "       'C': hp.uniform('C', 0.01, 1)}\n",
    "\n",
    "def hyperopt_lr(params, cv=5, X=X_train, y=y_train, random_state=42):\n",
    "    # функция получает комбинацию гиперпараметров в \"params\"\n",
    "    params = {'solver': str(params['solver']), \n",
    "              'penalty': str(params['penalty']), \n",
    "             'C': float(params['C'])\n",
    "              }\n",
    "  \n",
    "    # используем эту комбинацию для построения модели\n",
    "    model = linear_model.LogisticRegression(**params, max_iter=1000, random_state=random_state)\n",
    "\n",
    "    # обучаем модель\n",
    "    model.fit(X, y)\n",
    " \n",
    "    score = cross_val_score(model, X, y, cv=cv, scoring=\"f1\", n_jobs=-1).mean()\n",
    "\n",
    "    # метрику необходимо минимизировать, поэтому ставим знак минус\n",
    "    return -score\n",
    "\n",
    "# Подберём гиперпараметры для линейной регрессии\n",
    "trials_lr = Trials() # используется для логирования результатов\n",
    "\n",
    "best_lr=fmin(hyperopt_lr,  # функция для максимизации\n",
    "          space=space_lr, # пространство гиперпараметров\n",
    "          algo=tpe.suggest, # алгоритм оптимизации, установлен по умолчанию, задавать необязательно\n",
    "          max_evals=20, # максимальное количество итераций\n",
    "          trials=trials_lr, # логирование результатов\n",
    "          rstate=np.random.default_rng(42)# фиксируем для повторяемости результата\n",
    "         )\n",
    "\n",
    "print(\"Наилучшие значения гиперпараметров {}\".format(best_lr))"
   ]
  },
  {
   "cell_type": "code",
   "execution_count": 28,
   "metadata": {},
   "outputs": [
    {
     "name": "stdout",
     "output_type": "stream",
     "text": [
      "f1_score на тренировочном наборе: 0.84\n",
      "f1_score на тестовом наборе: 0.79 \n",
      "\n"
     ]
    }
   ],
   "source": [
    "# Обучим логистическую регрессию с параметрами полученными с помощью Hyperopt и посчитаем значение метрики на тестовой выборке\n",
    "C = best_lr['C']\n",
    "solver = solver_list[best_lr['solver']]\n",
    "penalty = penalty_list[best_lr['penalty']]\n",
    "log_reg = linear_model.LogisticRegression(max_iter=1000,\n",
    "                                          random_state=42,\n",
    "                                          C=C,\n",
    "                                          solver=solver,\n",
    "                                          penalty=penalty)\n",
    "log_reg.fit(X_train, y_train)\n",
    "y_train_log_reg = log_reg.predict(X_train)\n",
    "y_test_log_reg = log_reg.predict(X_test)\n",
    "\n",
    "print('f1_score на тренировочном наборе: {:.2f}'.format(metrics.f1_score(y_train, y_train_log_reg)))\n",
    "print('f1_score на тестовом наборе: {:.2f}'.format(metrics.f1_score(y_test, y_test_log_reg)), '\\n')\n"
   ]
  },
  {
   "attachments": {},
   "cell_type": "markdown",
   "metadata": {},
   "source": [
    "#### Случайный лес"
   ]
  },
  {
   "cell_type": "code",
   "execution_count": 29,
   "metadata": {},
   "outputs": [
    {
     "name": "stdout",
     "output_type": "stream",
     "text": [
      "100%|██████████| 30/30 [01:53<00:00,  3.77s/trial, best loss: -0.8185557076596979]\n",
      "Наилучшие значения гиперпараметров {'max_depth': 14.0, 'min_samples_leaf': 1.0, 'n_estimators': 160.0}\n"
     ]
    }
   ],
   "source": [
    "# зададим пространство поиска гиперпараметров для случайного леса\n",
    "space_rfc={'n_estimators': hp.quniform('n_estimators', 60, 270, 10),\n",
    "       'max_depth' : hp.quniform('max_depth', 4, 24, 1),\n",
    "       'min_samples_leaf': hp.quniform('min_samples_leaf', 1, 11, 1)\n",
    "      }\n",
    "\n",
    "def hyperopt_rfc(params, cv=5, X=X_train, y=y_train, random_state=42):\n",
    "    # функция получает комбинацию гиперпараметров в \"params\"\n",
    "    params = {'n_estimators': int(params['n_estimators']), \n",
    "              'max_depth': int(params['max_depth']), \n",
    "             'min_samples_leaf': int(params['min_samples_leaf'])\n",
    "              }\n",
    "  \n",
    "    # используем эту комбинацию для построения модели\n",
    "    model = ensemble.RandomForestClassifier(**params, random_state=random_state)\n",
    "\n",
    "    # обучаем модель\n",
    "    model.fit(X, y)\n",
    " \n",
    "    score = cross_val_score(model, X, y, cv=cv, scoring=\"f1\", n_jobs=-1).mean()\n",
    "\n",
    "    # метрику необходимо минимизировать, поэтому ставим знак минус\n",
    "    return -score\n",
    "\n",
    "# Подберём гиперпараметры для линейной регрессии\n",
    "trials_rfc = Trials()  # используется для логирования результатов\n",
    "\n",
    "best_rfc=fmin(hyperopt_rfc,  # наша функция \n",
    "          space=space_rfc,  # пространство гиперпараметров\n",
    "          algo=tpe.suggest,  # алгоритм оптимизации, установлен по умолчанию, задавать необязательно\n",
    "          max_evals=30,  # максимальное количество итераций\n",
    "          trials=trials_rfc,  # логирование результатов\n",
    "          rstate=np.random.default_rng(42)  # фиксируем для повторяемости результата\n",
    "         )\n",
    "print(\"Наилучшие значения гиперпараметров {}\".format(best_rfc))"
   ]
  },
  {
   "cell_type": "code",
   "execution_count": 30,
   "metadata": {},
   "outputs": [
    {
     "name": "stdout",
     "output_type": "stream",
     "text": [
      "f1_score на тренировочном наборе: 0.99\n",
      "f1_score на тестовом наборе: 0.81\n"
     ]
    }
   ],
   "source": [
    "# Обучим логистическую регрессию с параметрами полученными с помощью Hyperopt и посчитаем значение метрики на тестовой выборке\n",
    "rfc = ensemble.RandomForestClassifier(n_estimators=int(best_rfc['n_estimators']),\n",
    "                                      max_depth=int(best_rfc['max_depth']),\n",
    "                                      min_samples_leaf=int(best_rfc['min_samples_leaf']),\n",
    "                                      random_state=42)\n",
    "rfc.fit(X_train, y_train)\n",
    "#Выводим значения метрики \n",
    "y_train_rfc = rfc.predict(X_train)\n",
    "y_test_rfc = rfc.predict(X_test)\n",
    "print('f1_score на тренировочном наборе: {:.2f}'.format(metrics.f1_score(y_train, y_train_rfc)))\n",
    "print('f1_score на тестовом наборе: {:.2f}'.format(metrics.f1_score(y_test, y_test_rfc)))"
   ]
  },
  {
   "attachments": {},
   "cell_type": "markdown",
   "metadata": {},
   "source": [
    "### Optuna"
   ]
  },
  {
   "attachments": {},
   "cell_type": "markdown",
   "metadata": {},
   "source": [
    "#### Логистическая регрессия"
   ]
  },
  {
   "cell_type": "code",
   "execution_count": 31,
   "metadata": {},
   "outputs": [
    {
     "name": "stderr",
     "output_type": "stream",
     "text": [
      "\u001b[32m[I 2023-04-13 02:40:52,556]\u001b[0m A new study created in memory with name: LogisticRegression\u001b[0m\n",
      "\u001b[32m[I 2023-04-13 02:40:56,315]\u001b[0m Trial 0 finished with value: 0.7938295961252309 and parameters: {'solver': 'newton-cg', 'penalty': 'l2', 'C': 0.017044113670805362}. Best is trial 0 with value: 0.7938295961252309.\u001b[0m\n",
      "\u001b[32m[I 2023-04-13 02:40:58,895]\u001b[0m Trial 1 finished with value: 0.7870880428484943 and parameters: {'solver': 'lbfgs', 'penalty': 'l2', 'C': 0.07707297378664633}. Best is trial 0 with value: 0.7938295961252309.\u001b[0m\n",
      "\u001b[32m[I 2023-04-13 02:41:03,350]\u001b[0m Trial 2 finished with value: 0.778438740356448 and parameters: {'solver': 'lbfgs', 'penalty': 'l2', 'C': 0.3349611671245042}. Best is trial 0 with value: 0.7938295961252309.\u001b[0m\n",
      "\u001b[32m[I 2023-04-13 02:42:00,168]\u001b[0m Trial 3 finished with value: 0.7744016977719167 and parameters: {'solver': 'saga', 'penalty': 'l2', 'C': 0.9199314841297963}. Best is trial 0 with value: 0.7938295961252309.\u001b[0m\n",
      "\u001b[32m[I 2023-04-13 02:42:04,826]\u001b[0m Trial 4 finished with value: 0.7874539264350459 and parameters: {'solver': 'newton-cg', 'penalty': 'l2', 'C': 0.07894924977433729}. Best is trial 0 with value: 0.7938295961252309.\u001b[0m\n",
      "\u001b[32m[I 2023-04-13 02:42:27,178]\u001b[0m Trial 5 finished with value: 0.787691120208933 and parameters: {'solver': 'sag', 'penalty': 'l2', 'C': 0.0820649456827701}. Best is trial 0 with value: 0.7938295961252309.\u001b[0m\n",
      "\u001b[32m[I 2023-04-13 02:43:07,335]\u001b[0m Trial 6 finished with value: 0.7793217763972098 and parameters: {'solver': 'sag', 'penalty': 'l2', 'C': 0.42887257352494806}. Best is trial 0 with value: 0.7938295961252309.\u001b[0m\n",
      "\u001b[32m[I 2023-04-13 02:43:11,686]\u001b[0m Trial 7 finished with value: 0.779177796939668 and parameters: {'solver': 'lbfgs', 'penalty': 'l2', 'C': 0.35741861540267106}. Best is trial 0 with value: 0.7938295961252309.\u001b[0m\n",
      "\u001b[32m[I 2023-04-13 02:43:50,571]\u001b[0m Trial 8 finished with value: 0.7794334083065177 and parameters: {'solver': 'sag', 'penalty': 'l2', 'C': 0.38947692639744796}. Best is trial 0 with value: 0.7938295961252309.\u001b[0m\n",
      "\u001b[32m[I 2023-04-13 02:44:21,824]\u001b[0m Trial 9 finished with value: 0.7773998519207198 and parameters: {'solver': 'sag', 'penalty': 'l2', 'C': 0.7224248324776456}. Best is trial 0 with value: 0.7938295961252309.\u001b[0m\n",
      "\u001b[32m[I 2023-04-13 02:44:28,991]\u001b[0m Trial 10 finished with value: 0.7786047475607094 and parameters: {'solver': 'newton-cg', 'penalty': 'l2', 'C': 0.6604466675121655}. Best is trial 0 with value: 0.7938295961252309.\u001b[0m\n",
      "\u001b[32m[I 2023-04-13 02:44:34,562]\u001b[0m Trial 11 finished with value: 0.7825531018728628 and parameters: {'solver': 'newton-cg', 'penalty': 'l2', 'C': 0.1754306802283972}. Best is trial 0 with value: 0.7938295961252309.\u001b[0m\n",
      "\u001b[32m[I 2023-04-13 02:44:52,196]\u001b[0m Trial 12 finished with value: 0.7949004397420658 and parameters: {'solver': 'saga', 'penalty': 'l2', 'C': 0.017942501310672217}. Best is trial 12 with value: 0.7949004397420658.\u001b[0m\n",
      "\u001b[32m[I 2023-04-13 02:45:16,144]\u001b[0m Trial 13 finished with value: 0.7797822076646967 and parameters: {'solver': 'saga', 'penalty': 'l2', 'C': 0.24586549929937657}. Best is trial 12 with value: 0.7949004397420658.\u001b[0m\n",
      "\u001b[32m[I 2023-04-13 02:45:59,422]\u001b[0m Trial 14 finished with value: 0.7797280535271085 and parameters: {'solver': 'saga', 'penalty': 'l2', 'C': 0.5984858823195117}. Best is trial 12 with value: 0.7949004397420658.\u001b[0m\n",
      "\u001b[32m[I 2023-04-13 02:46:05,326]\u001b[0m Trial 15 finished with value: 0.7807474212956713 and parameters: {'solver': 'newton-cg', 'penalty': 'l2', 'C': 0.21047418555631373}. Best is trial 12 with value: 0.7949004397420658.\u001b[0m\n"
     ]
    },
    {
     "name": "stdout",
     "output_type": "stream",
     "text": [
      "Наилучшие значения гиперпараметров {'solver': 'saga', 'penalty': 'l2', 'C': 0.017942501310672217}\n",
      "f1_score на обучающем наборе: 0.79\n",
      "f1_score на тестовом наборе: 0.78\n"
     ]
    }
   ],
   "source": [
    "def optuna_lr(trial_optuna_lr):\n",
    "  # задаем пространства поиска гиперпараметров\n",
    "  solver = trial_optuna_lr.suggest_categorical('solver', solver_list)\n",
    "  penalty = trial_optuna_lr.suggest_categorical('penalty', penalty_list)\n",
    "  C = trial_optuna_lr.suggest_float('C', 0.01, 1)\n",
    "\n",
    "  # создаем модель\n",
    "  model = linear_model.LogisticRegression(solver=solver,\n",
    "                                          penalty=penalty, \n",
    "                                          C=C,\n",
    "                                          max_iter=1000,\n",
    "                                          random_state=42)\n",
    "  # обучаем модель\n",
    "  model.fit(X_train, y_train)\n",
    "  score = cross_val_score(model, X_train, y_train, cv=5, scoring=\"f1\", n_jobs=-1).mean()\n",
    "\n",
    "  return score\n",
    "\n",
    "# cоздаем объект исследования\n",
    "study_lr = optuna.create_study(study_name='LogisticRegression', direction=\"maximize\")\n",
    "# ищем лучшую комбинацию гиперпараметров n_trials раз\n",
    "study_lr.optimize(optuna_lr, n_trials=16)\n",
    "\n",
    "# выводим результаты на обучающей выборке\n",
    "print(\"Наилучшие значения гиперпараметров {}\".format(study_lr.best_params))\n",
    "print(\"f1_score на обучающем наборе: {:.2f}\".format(study_lr.best_value))\\\n",
    "# рассчитаем точность для тестовой выборки\n",
    "model = linear_model.LogisticRegression(**study_lr.best_params,random_state=42, max_iter=1000)\n",
    "model.fit(X_train, y_train)\n",
    "y_test_pred = model.predict(X_test)\n",
    "print('f1_score на тестовом наборе: {:.2f}'.format(metrics.f1_score(y_test, y_test_pred)))"
   ]
  },
  {
   "attachments": {},
   "cell_type": "markdown",
   "metadata": {},
   "source": [
    "#### Случайный лес"
   ]
  },
  {
   "cell_type": "code",
   "execution_count": 32,
   "metadata": {},
   "outputs": [
    {
     "name": "stderr",
     "output_type": "stream",
     "text": [
      "\u001b[32m[I 2023-04-13 02:46:14,337]\u001b[0m A new study created in memory with name: RandomForestClassifier\u001b[0m\n",
      "\u001b[32m[I 2023-04-13 02:46:18,263]\u001b[0m Trial 0 finished with value: 0.8095429395195094 and parameters: {'n_estimators': 160, 'max_depth': 11, 'min_samples_leaf': 5}. Best is trial 0 with value: 0.8095429395195094.\u001b[0m\n",
      "\u001b[32m[I 2023-04-13 02:46:23,219]\u001b[0m Trial 1 finished with value: 0.8174083521754032 and parameters: {'n_estimators': 154, 'max_depth': 22, 'min_samples_leaf': 2}. Best is trial 1 with value: 0.8174083521754032.\u001b[0m\n",
      "\u001b[32m[I 2023-04-13 02:46:28,971]\u001b[0m Trial 2 finished with value: 0.8106278177954387 and parameters: {'n_estimators': 218, 'max_depth': 22, 'min_samples_leaf': 5}. Best is trial 1 with value: 0.8174083521754032.\u001b[0m\n",
      "\u001b[32m[I 2023-04-13 02:46:31,647]\u001b[0m Trial 3 finished with value: 0.8055026882035975 and parameters: {'n_estimators': 94, 'max_depth': 18, 'min_samples_leaf': 6}. Best is trial 1 with value: 0.8174083521754032.\u001b[0m\n",
      "\u001b[32m[I 2023-04-13 02:46:34,729]\u001b[0m Trial 4 finished with value: 0.805340000803138 and parameters: {'n_estimators': 120, 'max_depth': 28, 'min_samples_leaf': 8}. Best is trial 1 with value: 0.8174083521754032.\u001b[0m\n",
      "\u001b[32m[I 2023-04-13 02:46:40,289]\u001b[0m Trial 5 finished with value: 0.8111145648832367 and parameters: {'n_estimators': 214, 'max_depth': 20, 'min_samples_leaf': 6}. Best is trial 1 with value: 0.8174083521754032.\u001b[0m\n",
      "\u001b[32m[I 2023-04-13 02:46:45,492]\u001b[0m Trial 6 finished with value: 0.8133512226583818 and parameters: {'n_estimators': 178, 'max_depth': 17, 'min_samples_leaf': 3}. Best is trial 1 with value: 0.8174083521754032.\u001b[0m\n",
      "\u001b[32m[I 2023-04-13 02:46:50,353]\u001b[0m Trial 7 finished with value: 0.808045351310031 and parameters: {'n_estimators': 200, 'max_depth': 11, 'min_samples_leaf': 4}. Best is trial 1 with value: 0.8174083521754032.\u001b[0m\n",
      "\u001b[32m[I 2023-04-13 02:46:51,766]\u001b[0m Trial 8 finished with value: 0.7595744529334083 and parameters: {'n_estimators': 76, 'max_depth': 5, 'min_samples_leaf': 7}. Best is trial 1 with value: 0.8174083521754032.\u001b[0m\n",
      "\u001b[32m[I 2023-04-13 02:46:53,515]\u001b[0m Trial 9 finished with value: 0.7967630952679976 and parameters: {'n_estimators': 60, 'max_depth': 26, 'min_samples_leaf': 10}. Best is trial 1 with value: 0.8174083521754032.\u001b[0m\n",
      "\u001b[32m[I 2023-04-13 02:46:57,884]\u001b[0m Trial 10 finished with value: 0.8172620195900882 and parameters: {'n_estimators': 136, 'max_depth': 30, 'min_samples_leaf': 2}. Best is trial 1 with value: 0.8174083521754032.\u001b[0m\n",
      "\u001b[32m[I 2023-04-13 02:47:02,028]\u001b[0m Trial 11 finished with value: 0.8174210645275697 and parameters: {'n_estimators': 126, 'max_depth': 29, 'min_samples_leaf': 2}. Best is trial 11 with value: 0.8174210645275697.\u001b[0m\n",
      "\u001b[32m[I 2023-04-13 02:47:05,881]\u001b[0m Trial 12 finished with value: 0.8133250287016223 and parameters: {'n_estimators': 116, 'max_depth': 24, 'min_samples_leaf': 2}. Best is trial 11 with value: 0.8174210645275697.\u001b[0m\n",
      "\u001b[32m[I 2023-04-13 02:47:10,573]\u001b[0m Trial 13 finished with value: 0.8116362918878478 and parameters: {'n_estimators': 158, 'max_depth': 26, 'min_samples_leaf': 3}. Best is trial 11 with value: 0.8174210645275697.\u001b[0m\n",
      "\u001b[32m[I 2023-04-13 02:47:14,904]\u001b[0m Trial 14 finished with value: 0.8166487590754201 and parameters: {'n_estimators': 132, 'max_depth': 30, 'min_samples_leaf': 2}. Best is trial 11 with value: 0.8174210645275697.\u001b[0m\n",
      "\u001b[32m[I 2023-04-13 02:47:19,917]\u001b[0m Trial 15 finished with value: 0.8127419052859913 and parameters: {'n_estimators': 180, 'max_depth': 23, 'min_samples_leaf': 4}. Best is trial 11 with value: 0.8174210645275697.\u001b[0m\n",
      "\u001b[32m[I 2023-04-13 02:47:23,092]\u001b[0m Trial 16 finished with value: 0.813619074901692 and parameters: {'n_estimators': 104, 'max_depth': 15, 'min_samples_leaf': 3}. Best is trial 11 with value: 0.8174210645275697.\u001b[0m\n",
      "\u001b[32m[I 2023-04-13 02:47:26,541]\u001b[0m Trial 17 finished with value: 0.8038929205148084 and parameters: {'n_estimators': 146, 'max_depth': 26, 'min_samples_leaf': 10}. Best is trial 11 with value: 0.8174210645275697.\u001b[0m\n",
      "\u001b[32m[I 2023-04-13 02:47:32,966]\u001b[0m Trial 18 finished with value: 0.8123263560816657 and parameters: {'n_estimators': 236, 'max_depth': 20, 'min_samples_leaf': 4}. Best is trial 11 with value: 0.8174210645275697.\u001b[0m\n",
      "\u001b[32m[I 2023-04-13 02:47:37,187]\u001b[0m Trial 19 finished with value: 0.8041421589017318 and parameters: {'n_estimators': 178, 'max_depth': 13, 'min_samples_leaf': 8}. Best is trial 11 with value: 0.8174210645275697.\u001b[0m\n"
     ]
    },
    {
     "name": "stdout",
     "output_type": "stream",
     "text": [
      "Наилучшие значения гиперпараметров {'n_estimators': 126, 'max_depth': 29, 'min_samples_leaf': 2}\n",
      "f1_score на обучающем наборе: 0.82\n",
      "f1_score на тестовом наборе: 0.80\n"
     ]
    }
   ],
   "source": [
    "def optuna_rfc(trial_optuna_rfc):\n",
    "  # задаем пространства поиска гиперпараметров\n",
    "  n_estimators = trial_optuna_rfc.suggest_int('n_estimators', 60, 240, 2)\n",
    "  max_depth = trial_optuna_rfc.suggest_int('max_depth', 4, 30, 1)\n",
    "  min_samples_leaf = trial_optuna_rfc.suggest_int('min_samples_leaf', 2, 10, 1)\n",
    "\n",
    "  # создаем модель\n",
    "  model = ensemble.RandomForestClassifier(n_estimators=n_estimators,\n",
    "                                          max_depth=max_depth,\n",
    "                                          min_samples_leaf=min_samples_leaf,\n",
    "                                          random_state=42)\n",
    "  # обучаем модель\n",
    "  model.fit(X_train, y_train)\n",
    "  score = cross_val_score(model, X_train, y_train, cv=5, scoring=\"f1\", n_jobs=-1).mean()\n",
    "\n",
    "  return score\n",
    "\n",
    "# cоздаем объект исследования\n",
    "study_rfc = optuna.create_study(study_name='RandomForestClassifier', direction=\"maximize\")\n",
    "# ищем лучшую комбинацию гиперпараметров n_trials раз\n",
    "study_rfc.optimize(optuna_rfc, n_trials=20)\n",
    "\n",
    "# выводим результаты на обучающей выборке\n",
    "print(\"Наилучшие значения гиперпараметров {}\".format(study_rfc.best_params))\n",
    "print(\"f1_score на обучающем наборе: {:.2f}\".format(study_rfc.best_value))\\\n",
    "# рассчитаем точность для тестовой выборки\n",
    "model = ensemble.RandomForestClassifier(**study_rfc.best_params,random_state=42)\n",
    "model.fit(X_train, y_train)\n",
    "y_test_pred = model.predict(X_test)\n",
    "print('f1_score на тестовом наборе: {:.2f}'.format(metrics.f1_score(y_test, y_test_pred)))"
   ]
  }
 ],
 "metadata": {
  "kernelspec": {
   "display_name": "Python 3",
   "language": "python",
   "name": "python3"
  },
  "language_info": {
   "codemirror_mode": {
    "name": "ipython",
    "version": 3
   },
   "file_extension": ".py",
   "mimetype": "text/x-python",
   "name": "python",
   "nbconvert_exporter": "python",
   "pygments_lexer": "ipython3",
   "version": "3.9.11"
  },
  "orig_nbformat": 4
 },
 "nbformat": 4,
 "nbformat_minor": 2
}
